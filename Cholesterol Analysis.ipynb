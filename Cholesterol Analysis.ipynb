{
 "cells": [
  {
   "cell_type": "markdown",
   "metadata": {},
   "source": [
    "### Please note\n",
    "\n",
    "#### I have written all parahraphs at the end. I believe it had more flow this way. I placed the first and second part parahraphs in subsections \"Graphs\" and \"Statistics\". The Discussion summary also has a paragraph for itself under \"Summary\". "
   ]
  },
  {
   "cell_type": "code",
   "execution_count": 1,
   "metadata": {},
   "outputs": [],
   "source": [
    "# importing essential modules\n",
    "\n",
    "import numpy as np\n",
    "import matplotlib.pyplot as plt\n",
    "import pandas as pd\n",
    "from scipy import stats \n",
    "%matplotlib inline\n"
   ]
  },
  {
   "cell_type": "code",
   "execution_count": 2,
   "metadata": {},
   "outputs": [
    {
     "data": {
      "text/html": [
       "<div>\n",
       "<style scoped>\n",
       "    .dataframe tbody tr th:only-of-type {\n",
       "        vertical-align: middle;\n",
       "    }\n",
       "\n",
       "    .dataframe tbody tr th {\n",
       "        vertical-align: top;\n",
       "    }\n",
       "\n",
       "    .dataframe thead th {\n",
       "        text-align: right;\n",
       "    }\n",
       "</style>\n",
       "<table border=\"1\" class=\"dataframe\">\n",
       "  <thead>\n",
       "    <tr style=\"text-align: right;\">\n",
       "      <th></th>\n",
       "      <th>Unnamed: 0</th>\n",
       "      <th>Unnamed: 1</th>\n",
       "      <th>Unnamed: 2</th>\n",
       "      <th>Unnamed: 3</th>\n",
       "      <th>Unnamed: 4</th>\n",
       "      <th>Unnamed: 5</th>\n",
       "      <th>Unnamed: 6</th>\n",
       "      <th>Unnamed: 7</th>\n",
       "    </tr>\n",
       "  </thead>\n",
       "  <tbody>\n",
       "    <tr>\n",
       "      <td>0</td>\n",
       "      <td>NaN</td>\n",
       "      <td>* Does drug reduce cholersterol in patients wi...</td>\n",
       "      <td>NaN</td>\n",
       "      <td>NaN</td>\n",
       "      <td>NaN</td>\n",
       "      <td>NaN</td>\n",
       "      <td>NaN</td>\n",
       "      <td>NaN</td>\n",
       "    </tr>\n",
       "    <tr>\n",
       "      <td>1</td>\n",
       "      <td>NaN</td>\n",
       "      <td>Group</td>\n",
       "      <td>Cholersterol (mmol/l)</td>\n",
       "      <td>NaN</td>\n",
       "      <td>NaN</td>\n",
       "      <td>NaN</td>\n",
       "      <td>NaN</td>\n",
       "      <td>NaN</td>\n",
       "    </tr>\n",
       "    <tr>\n",
       "      <td>2</td>\n",
       "      <td>NaN</td>\n",
       "      <td>1</td>\n",
       "      <td>6</td>\n",
       "      <td>NaN</td>\n",
       "      <td>NaN</td>\n",
       "      <td>Value Labels</td>\n",
       "      <td>NaN</td>\n",
       "      <td>NaN</td>\n",
       "    </tr>\n",
       "    <tr>\n",
       "      <td>3</td>\n",
       "      <td>NaN</td>\n",
       "      <td>1</td>\n",
       "      <td>6.4</td>\n",
       "      <td>NaN</td>\n",
       "      <td>NaN</td>\n",
       "      <td>Variable Value Label</td>\n",
       "      <td>NaN</td>\n",
       "      <td>NaN</td>\n",
       "    </tr>\n",
       "    <tr>\n",
       "      <td>4</td>\n",
       "      <td>NaN</td>\n",
       "      <td>1</td>\n",
       "      <td>7</td>\n",
       "      <td>NaN</td>\n",
       "      <td>NaN</td>\n",
       "      <td>════════════════════════════</td>\n",
       "      <td>NaN</td>\n",
       "      <td>NaN</td>\n",
       "    </tr>\n",
       "  </tbody>\n",
       "</table>\n",
       "</div>"
      ],
      "text/plain": [
       "   Unnamed: 0                                         Unnamed: 1  \\\n",
       "0         NaN  * Does drug reduce cholersterol in patients wi...   \n",
       "1         NaN                                              Group   \n",
       "2         NaN                                                  1   \n",
       "3         NaN                                                  1   \n",
       "4         NaN                                                  1   \n",
       "\n",
       "              Unnamed: 2  Unnamed: 3  Unnamed: 4  \\\n",
       "0                    NaN         NaN         NaN   \n",
       "1  Cholersterol (mmol/l)         NaN         NaN   \n",
       "2                      6         NaN         NaN   \n",
       "3                    6.4         NaN         NaN   \n",
       "4                      7         NaN         NaN   \n",
       "\n",
       "                     Unnamed: 5  Unnamed: 6 Unnamed: 7  \n",
       "0                           NaN         NaN        NaN  \n",
       "1                           NaN         NaN        NaN  \n",
       "2                  Value Labels         NaN        NaN  \n",
       "3          Variable Value Label         NaN        NaN  \n",
       "4  ════════════════════════════         NaN        NaN  "
      ]
     },
     "execution_count": 2,
     "metadata": {},
     "output_type": "execute_result"
    }
   ],
   "source": [
    "# read and visualise the dataframe\n",
    "\n",
    "df = pd.read_excel('Dataset.xlsx', delimiter = ',')\n",
    "df.head()"
   ]
  },
  {
   "cell_type": "code",
   "execution_count": 3,
   "metadata": {},
   "outputs": [],
   "source": [
    "# reshaping and cleaning the data\n",
    "\n",
    "df = df.drop(columns = ['Unnamed: 0']) # get rid of the unnecessary columns \n",
    "df = df.drop(columns = ['Unnamed: 3'])\n",
    "df = df.drop(columns = ['Unnamed: 4'])\n",
    "df = df.drop(columns = ['Unnamed: 5'])\n",
    "df = df.drop(columns = ['Unnamed: 6'])\n",
    "df = df.drop(columns = ['Unnamed: 7'])\n",
    "\n",
    "df['Unnamed: 1'] = df['Unnamed: 1'][2:24] # remove all unnecessary cells \n",
    "df['Unnamed: 2'] = df['Unnamed: 2'][2:24]\n",
    "\n",
    "df.columns = ['Groups', 'Cholesterol (mmol/l)'] # rename accordingly \n",
    "\n",
    "df = df.dropna() # eliminate all nans automatically "
   ]
  },
  {
   "cell_type": "code",
   "execution_count": 22,
   "metadata": {},
   "outputs": [
    {
     "data": {
      "text/html": [
       "<div>\n",
       "<style scoped>\n",
       "    .dataframe tbody tr th:only-of-type {\n",
       "        vertical-align: middle;\n",
       "    }\n",
       "\n",
       "    .dataframe tbody tr th {\n",
       "        vertical-align: top;\n",
       "    }\n",
       "\n",
       "    .dataframe thead th {\n",
       "        text-align: right;\n",
       "    }\n",
       "</style>\n",
       "<table border=\"1\" class=\"dataframe\">\n",
       "  <thead>\n",
       "    <tr style=\"text-align: right;\">\n",
       "      <th></th>\n",
       "      <th>Groups</th>\n",
       "      <th>Cholesterol (mmol/l)</th>\n",
       "    </tr>\n",
       "  </thead>\n",
       "  <tbody>\n",
       "    <tr>\n",
       "      <td>2</td>\n",
       "      <td>1</td>\n",
       "      <td>6</td>\n",
       "    </tr>\n",
       "    <tr>\n",
       "      <td>3</td>\n",
       "      <td>1</td>\n",
       "      <td>6.4</td>\n",
       "    </tr>\n",
       "    <tr>\n",
       "      <td>4</td>\n",
       "      <td>1</td>\n",
       "      <td>7</td>\n",
       "    </tr>\n",
       "    <tr>\n",
       "      <td>5</td>\n",
       "      <td>1</td>\n",
       "      <td>5.8</td>\n",
       "    </tr>\n",
       "    <tr>\n",
       "      <td>6</td>\n",
       "      <td>1</td>\n",
       "      <td>6</td>\n",
       "    </tr>\n",
       "    <tr>\n",
       "      <td>7</td>\n",
       "      <td>1</td>\n",
       "      <td>5.8</td>\n",
       "    </tr>\n",
       "    <tr>\n",
       "      <td>8</td>\n",
       "      <td>1</td>\n",
       "      <td>5.9</td>\n",
       "    </tr>\n",
       "    <tr>\n",
       "      <td>9</td>\n",
       "      <td>1</td>\n",
       "      <td>6.7</td>\n",
       "    </tr>\n",
       "    <tr>\n",
       "      <td>10</td>\n",
       "      <td>1</td>\n",
       "      <td>6.1</td>\n",
       "    </tr>\n",
       "    <tr>\n",
       "      <td>11</td>\n",
       "      <td>1</td>\n",
       "      <td>6.5</td>\n",
       "    </tr>\n",
       "    <tr>\n",
       "      <td>12</td>\n",
       "      <td>1</td>\n",
       "      <td>6.3</td>\n",
       "    </tr>\n",
       "    <tr>\n",
       "      <td>13</td>\n",
       "      <td>2</td>\n",
       "      <td>5.8</td>\n",
       "    </tr>\n",
       "    <tr>\n",
       "      <td>14</td>\n",
       "      <td>2</td>\n",
       "      <td>5.4</td>\n",
       "    </tr>\n",
       "    <tr>\n",
       "      <td>15</td>\n",
       "      <td>2</td>\n",
       "      <td>5.3</td>\n",
       "    </tr>\n",
       "    <tr>\n",
       "      <td>16</td>\n",
       "      <td>2</td>\n",
       "      <td>4.9</td>\n",
       "    </tr>\n",
       "    <tr>\n",
       "      <td>17</td>\n",
       "      <td>2</td>\n",
       "      <td>4.8</td>\n",
       "    </tr>\n",
       "    <tr>\n",
       "      <td>18</td>\n",
       "      <td>2</td>\n",
       "      <td>4.7</td>\n",
       "    </tr>\n",
       "    <tr>\n",
       "      <td>19</td>\n",
       "      <td>2</td>\n",
       "      <td>5.1</td>\n",
       "    </tr>\n",
       "    <tr>\n",
       "      <td>20</td>\n",
       "      <td>2</td>\n",
       "      <td>5.9</td>\n",
       "    </tr>\n",
       "    <tr>\n",
       "      <td>21</td>\n",
       "      <td>2</td>\n",
       "      <td>6</td>\n",
       "    </tr>\n",
       "    <tr>\n",
       "      <td>22</td>\n",
       "      <td>2</td>\n",
       "      <td>4.7</td>\n",
       "    </tr>\n",
       "    <tr>\n",
       "      <td>23</td>\n",
       "      <td>2</td>\n",
       "      <td>6.9</td>\n",
       "    </tr>\n",
       "  </tbody>\n",
       "</table>\n",
       "</div>"
      ],
      "text/plain": [
       "   Groups Cholesterol (mmol/l)\n",
       "2       1                    6\n",
       "3       1                  6.4\n",
       "4       1                    7\n",
       "5       1                  5.8\n",
       "6       1                    6\n",
       "7       1                  5.8\n",
       "8       1                  5.9\n",
       "9       1                  6.7\n",
       "10      1                  6.1\n",
       "11      1                  6.5\n",
       "12      1                  6.3\n",
       "13      2                  5.8\n",
       "14      2                  5.4\n",
       "15      2                  5.3\n",
       "16      2                  4.9\n",
       "17      2                  4.8\n",
       "18      2                  4.7\n",
       "19      2                  5.1\n",
       "20      2                  5.9\n",
       "21      2                    6\n",
       "22      2                  4.7\n",
       "23      2                  6.9"
      ]
     },
     "execution_count": 22,
     "metadata": {},
     "output_type": "execute_result"
    }
   ],
   "source": [
    "df "
   ]
  },
  {
   "cell_type": "code",
   "execution_count": 4,
   "metadata": {},
   "outputs": [
    {
     "data": {
      "text/plain": [
       "Text(0.5, 1.0, 'Cholesterol distribution across the whole population')"
      ]
     },
     "execution_count": 4,
     "metadata": {},
     "output_type": "execute_result"
    },
    {
     "data": {
      "image/png": "[encoded data removed]",
      "text/plain": [
       "<Figure size 720x576 with 1 Axes>"
      ]
     },
     "metadata": {
      "needs_background": "light"
     },
     "output_type": "display_data"
    }
   ],
   "source": [
    "# Visualise the distribution\n",
    "\n",
    "plt.figure(figsize = (10, 8))\n",
    "plt.hist(df['Cholesterol (mmol/l)'], edgecolor = 'black', bins = 10)\n",
    "plt.xlabel('Cholesterol (mmol/l)')\n",
    "plt.ylabel('Number of instances')\n",
    "plt.title('Cholesterol distribution across the whole population')"
   ]
  },
  {
   "cell_type": "markdown",
   "metadata": {},
   "source": [
    "The data seems fairly normally distributed. This will be tested statistically a bit later. "
   ]
  },
  {
   "cell_type": "code",
   "execution_count": 5,
   "metadata": {},
   "outputs": [],
   "source": [
    "# Set the stage for comparisons. \n",
    "g1 = df['Cholesterol (mmol/l)'][0:11]\n",
    "g2 = df['Cholesterol (mmol/l)'][11:23]"
   ]
  },
  {
   "cell_type": "code",
   "execution_count": 21,
   "metadata": {},
   "outputs": [
    {
     "data": {
      "text/plain": [
       "Text(0.5, 1.0, 'Plot showing the difference in trends of the two groups')"
      ]
     },
     "execution_count": 21,
     "metadata": {},
     "output_type": "execute_result"
    },
    {
     "data": {
      "image/png": "[encoded data removed]",
      "text/plain": [
       "<Figure size 1440x720 with 2 Axes>"
      ]
     },
     "metadata": {
      "needs_background": "light"
     },
     "output_type": "display_data"
    },
    {
     "data": {
      "image/png": "[encoded data removed]",
      "text/plain": [
       "<Figure size 576x360 with 1 Axes>"
      ]
     },
     "metadata": {
      "needs_background": "light"
     },
     "output_type": "display_data"
    },
    {
     "data": {
      "image/png": "[encoded data removed]",
      "text/plain": [
       "<Figure size 576x360 with 1 Axes>"
      ]
     },
     "metadata": {
      "needs_background": "light"
     },
     "output_type": "display_data"
    },
    {
     "data": {
      "image/png": "[encoded data removed]",
      "text/plain": [
       "<Figure size 576x360 with 2 Axes>"
      ]
     },
     "metadata": {
      "needs_background": "light"
     },
     "output_type": "display_data"
    },
    {
     "data": {
      "image/png": "[encoded data removed]",
      "text/plain": [
       "<Figure size 576x360 with 1 Axes>"
      ]
     },
     "metadata": {
      "needs_background": "light"
     },
     "output_type": "display_data"
    }
   ],
   "source": [
    "# Different visual comparisons between the two groups (same story, different delivery)\n",
    "\n",
    "# Make the plots of the two groups side by side \n",
    "plt.figure (figsize=(20,10)) \n",
    "plt.subplot(231)\n",
    "plt.hist(g1, 11, color = 'red')\n",
    "plt.ylabel('Number (#)')\n",
    "plt.xlabel('Cholesterol (mmol/l)')\n",
    "plt.title('Placebo')\n",
    "\n",
    "plt.subplot(232)\n",
    "plt.hist(g2, 11, color = 'blue')\n",
    "plt.ylabel('Number (#)')\n",
    "plt.xlabel('Cholesterol (mmol/l)')\n",
    "plt.title('Drug')\n",
    "\n",
    "# Overlap them\n",
    "\n",
    "plt.figure(figsize = (8, 5))\n",
    "df['Cholesterol (mmol/l)'][df['Groups'] == 1].hist(bins = 10, edgecolor = 'black', ls = 'dashed', lw = 3)\n",
    "df['Cholesterol (mmol/l)'][df['Groups'] == 2].hist(bins = 10, edgecolor = 'red', ls = 'dotted', lw = 3, fc = (1, 0, 0, 0.5))\n",
    "plt.xlabel ('Cholesterol (mmol/l)')\n",
    "plt.legend (['Group 1', 'Group 2'])\n",
    "plt.ylabel ('Number of instances')\n",
    "\n",
    "# Visualising the differences, and their standard deviations\n",
    "\n",
    "plt.figure(figsize = (8, 5))\n",
    "plt.bar([1], g1.mean(), yerr = g1.std(), width = 0.25, align = \"center\")\n",
    "plt.bar([2], g2.mean(), yerr = g2.std(), width = 0.25, align = \"center\", color = \"blue\")\n",
    "plt.xlabel('Groups')\n",
    "plt.ylabel('Cholesterol level')\n",
    "plt.xticks([1, 2], ['Group 1', 'Group 2'])\n",
    "plt.legend(['Placebo','Drug'])\n",
    "plt.title('Comparison between Placebo and Drug Cholesterol levels')\n",
    "\n",
    "\n",
    "plt.figure(figsize=(8, 5))\n",
    "plt.subplot(121)\n",
    "plt.boxplot(g1)\n",
    "plt.ylabel('Cholesterol')\n",
    "plt.xlabel('Placebo')\n",
    "plt.axis([0, 2, 4.5, 7.5])\n",
    "plt.subplot(122)\n",
    "plt.boxplot(g2)\n",
    "plt.xlabel('Drug')\n",
    "plt.ylabel('Cholesterol')\n",
    "plt.axis([0, 2, 4.5, 7.5])\n",
    "\n",
    "\n",
    "x = [1, 2, 3, 4, 5, 6, 7, 8, 9, 10, 11]\n",
    "plt.figure(figsize = (8, 5))\n",
    "plt.scatter(x, g1, s = 100, c = 'red')\n",
    "plt.scatter(x, g2, s = 100, c = 'green', marker = '^')\n",
    "plt.ylabel('Cholesterol (mmol/l)')\n",
    "plt.xlabel('Sham data points')\n",
    "plt.title('Plot showing the difference in trends of the two groups')"
   ]
  },
  {
   "cell_type": "code",
   "execution_count": 7,
   "metadata": {},
   "outputs": [],
   "source": [
    "# Importing necessary modules for statistical analysis\n",
    "from scipy import stats\n",
    "from scipy.stats import ttest_ind\n",
    "from scipy.stats import mannwhitneyu as mwu\n",
    "from scipy.stats import wilcoxon as wcx\n",
    "\n",
    "# Not the most appealing abbreviations, but they do the job. "
   ]
  },
  {
   "cell_type": "code",
   "execution_count": 8,
   "metadata": {},
   "outputs": [
    {
     "name": "stdout",
     "output_type": "stream",
     "text": [
      "Group 1 (Placebo) mean is: 6.2272727272727275\n",
      "Group 2 (Drug) mean is: 5.409090909090909\n",
      "Group 1 (Placebo) standard deviation is: 0.39010488100229945\n",
      "Group 2 (Drug) standard deviation is: 0.6862281624278408\n",
      "Group 1 (Placebo) median is: 6.1\n",
      "Group 2 (Drug) median is: 5.3\n"
     ]
    }
   ],
   "source": [
    "# Descriptive statistics. Median reported utilised because n < 30 \n",
    "\n",
    "print ('Group 1 (Placebo) mean is: ' + str(g1.mean()))\n",
    "print ('Group 2 (Drug) mean is: ' + str(g2.mean()))\n",
    "print ('Group 1 (Placebo) standard deviation is: ' + str(g1.std()))\n",
    "print ('Group 2 (Drug) standard deviation is: ' + str(g2.std()))\n",
    "print ('Group 1 (Placebo) median is: ' + str(g1.median()))\n",
    "print ('Group 2 (Drug) median is: ' + str(g2.median()))"
   ]
  },
  {
   "cell_type": "code",
   "execution_count": 9,
   "metadata": {},
   "outputs": [
    {
     "name": "stdout",
     "output_type": "stream",
     "text": [
      "Normality distribution:  (0.9508481621742249, 0.3282848298549652)\n"
     ]
    }
   ],
   "source": [
    "print('Normality distribution: ',stats.shapiro(df['Cholesterol (mmol/l)']))"
   ]
  },
  {
   "cell_type": "markdown",
   "metadata": {},
   "source": [
    "###### The normality test suggests that data is normally distributed. Thus, we can continue with a t-test."
   ]
  },
  {
   "cell_type": "code",
   "execution_count": 10,
   "metadata": {},
   "outputs": [
    {
     "name": "stdout",
     "output_type": "stream",
     "text": [
      "Placebo vs Drug  Ttest_indResult(statistic=3.4377196722657835, pvalue=0.002604470646547766)\n",
      "Rject Null Hypothesis (H0)\n"
     ]
    }
   ],
   "source": [
    "print('Placebo vs Drug ', stats.ttest_ind(g1, g2))\n",
    "stat, p = stats.ttest_ind(g1, g2)\n",
    "alpha = 0.05\n",
    "if p > alpha:\n",
    "    print('Fail to reject the Null Hypothesis (H0)')\n",
    "else:\n",
    "    print('Rject Null Hypothesis (H0)')"
   ]
  },
  {
   "cell_type": "markdown",
   "metadata": {},
   "source": [
    "#### T-test suggests that there is a significant difference between the two groups. Because we have a small sample size and to be conservative, it would be useful to apply a non-parametric test. Mann-Whitney U would be the most suitable. "
   ]
  },
  {
   "cell_type": "code",
   "execution_count": 11,
   "metadata": {},
   "outputs": [
    {
     "name": "stdout",
     "output_type": "stream",
     "text": [
      "Placebo vs Drug Conservative:  MannwhitneyuResult(statistic=17.5, pvalue=0.0025656334705779433)\n",
      "\n",
      "Reject Null Hypothesis (H0)\n"
     ]
    }
   ],
   "source": [
    "print('Placebo vs Drug Conservative: ', mwu(g1, g2))\n",
    "stat, p = mwu(g1, g2)\n",
    "alpha = 0.05\n",
    "print ('') # just making some space here\n",
    "if p > alpha:\n",
    "    print('Fail to reject the Null Hypothesis (H0)')\n",
    "else:\n",
    "    print('Reject Null Hypothesis (H0)')"
   ]
  },
  {
   "cell_type": "code",
   "execution_count": 12,
   "metadata": {},
   "outputs": [
    {
     "name": "stdout",
     "output_type": "stream",
     "text": [
      "Placebo vs Drug Conservative II:  WilcoxonResult(statistic=3.0, pvalue=0.007645761692991623)\n",
      "\n",
      "Reject Null Hypothesis (H0)\n"
     ]
    }
   ],
   "source": [
    "print('Placebo vs Drug Conservative II: ', wcx(g1, g2))\n",
    "stat, p = wcx(g1, g2)\n",
    "alpha = 0.05\n",
    "print ('') # just making some space here\n",
    "if p > alpha:\n",
    "    print('Fail to reject the Null Hypothesis (H0)')\n",
    "else:\n",
    "    print('Reject Null Hypothesis (H0)')"
   ]
  },
  {
   "cell_type": "markdown",
   "metadata": {},
   "source": [
    "# Discussion\n",
    "\n",
    "#### A short description of the data and approach. \n",
    "\n",
    "In this study we are interested to answer the following question:  \"Does drug reduce cholersterol in patients with high cholesterol?\" \n",
    "\n",
    "Translated into a hypothesis, it would be: There is a reduction in cholesterol levels (mmol/l) after administration of the studied drug, as opposed to the placebo. Null Hypothesis (H0): The placebo group shows no difference in comparison to, or higher levels of cholesterol than, the drug group. \n",
    "\n",
    "The two samples are independent from each other. \n",
    "\n",
    "From the beginning, we know that we'll need to visualise the distribution of the data, and compare the two groups. \n",
    "\n",
    "\n",
    "\n",
    "#### Graphs \n",
    "\n",
    "Visually, the data seems to be at the edge of what could be considered a Gaussian distribution. However, cosnisdering the small sample size, one could argue that it tends towards a normal distribution. Comparing the histograms, boxplot and barplots between the two groups, it seems that the groups have little overlap and differ considerably, with the Drug Group having lower level of cholesterol than the Placebo group. The bars show that standard deviation is higher in the Drug group than in the placebo group. \n",
    "\n",
    "\n",
    "#### Statistics \n",
    "\n",
    "The shapiro-wilk test revealed that the data is normally distributed, as precognized from the visualisation part. Both parametric and non-parametric tests suggest that we can reject the null hypothesis. I have chosen to use both because, although the test for normality was passed, the sample size is very small. Regardless, all three tests suggested that there is a significant difference between the groups. The Wilcoxon test is particularly important here because it compares the medians with a prospective population median, which is more appropriate in this situation.\n",
    "\n",
    "\n",
    "#### Summary \n",
    "\n",
    "Given what the statistical analysis showed us, we can confidently reject the Null hypothesis, achieving statistical significance. However, given that the sample size is very small, we shouldn't immediately extrapolate to the population. These results could signify that the drug has the potential to reduce cholesterol and it should be further studied with a larger sample size and take more factors into consideration. \n",
    "\n",
    "We have no other available data about the nature of the samples. I.e., whether the patients are coming from the same hospital, if the collection method was opportunity sampling or something else, etc. Thus, we have to carefully approach our final interpretation of the results. "
   ]
  }
 ],
 "metadata": {
  "kernelspec": {
   "display_name": "Python 3",
   "language": "python",
   "name": "python3"
  },
  "language_info": {
   "codemirror_mode": {
    "name": "ipython",
    "version": 3
   },
   "file_extension": ".py",
   "mimetype": "text/x-python",
   "name": "python",
   "nbconvert_exporter": "python",
   "pygments_lexer": "ipython3",
   "version": "3.7.4"
  }
 },
 "nbformat": 4,
 "nbformat_minor": 2
}
